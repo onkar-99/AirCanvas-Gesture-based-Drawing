{
  "nbformat": 4,
  "nbformat_minor": 0,
  "metadata": {
    "colab": {
      "name": "doodle training csv.ipynb",
      "provenance": [],
      "collapsed_sections": [],
      "mount_file_id": "1J0UeDVRmVwIhEwQ0FtMJ2R6l-yTfCKGd",
      "authorship_tag": "ABX9TyPFgfX6gf74648+XN2RaEwx",
      "include_colab_link": true
    },
    "kernelspec": {
      "name": "python3",
      "display_name": "Python 3"
    },
    "accelerator": "GPU"
  },
  "cells": [
    {
      "cell_type": "markdown",
      "metadata": {
        "id": "view-in-github",
        "colab_type": "text"
      },
      "source": [
        "<a href=\"https://colab.research.google.com/github/onkar-99/Doodle-in-Air/blob/main/doodle_training_csv.ipynb\" target=\"_parent\"><img src=\"https://colab.research.google.com/assets/colab-badge.svg\" alt=\"Open In Colab\"/></a>"
      ]
    },
    {
      "cell_type": "markdown",
      "metadata": {
        "id": "WuofaqgUzuBN"
      },
      "source": [
        "#**Download Dataset** \r\n",
        "####You don't need to do this step if you're not using Colab and downloading it from Drive"
      ]
    },
    {
      "cell_type": "code",
      "metadata": {
        "colab": {
          "base_uri": "https://localhost:8080/"
        },
        "id": "iShICs2pqOH5",
        "outputId": "313beb39-bb53-4f6c-bd86-feb3905dfc49"
      },
      "source": [
        "!unzip \"/content/drive/MyDrive/Dataset_csv_npy_64x1.zip\""
      ],
      "execution_count": null,
      "outputs": [
        {
          "output_type": "stream",
          "text": [
            "Archive:  /content/drive/MyDrive/Dataset_csv_npy_64x1.zip\n",
            "  inflating: Dataset_csv_npy_64x1/airplane.npy  \n",
            "  inflating: Dataset_csv_npy_64x1/alarm clock.npy  \n",
            "  inflating: Dataset_csv_npy_64x1/apple.npy  \n",
            "  inflating: Dataset_csv_npy_64x1/arm.npy  \n",
            "  inflating: Dataset_csv_npy_64x1/axe.npy  \n",
            "  inflating: Dataset_csv_npy_64x1/backpack.npy  \n",
            "  inflating: Dataset_csv_npy_64x1/banana.npy  \n",
            "  inflating: Dataset_csv_npy_64x1/bandage.npy  \n",
            "  inflating: Dataset_csv_npy_64x1/baseball bat.npy  \n",
            "  inflating: Dataset_csv_npy_64x1/basketball.npy  \n",
            "  inflating: Dataset_csv_npy_64x1/bed.npy  \n",
            "  inflating: Dataset_csv_npy_64x1/belt.npy  \n",
            "  inflating: Dataset_csv_npy_64x1/birthday cake.npy  \n",
            "  inflating: Dataset_csv_npy_64x1/book.npy  \n",
            "  inflating: Dataset_csv_npy_64x1/bucket.npy  \n",
            "  inflating: Dataset_csv_npy_64x1/butterfly.npy  \n",
            "  inflating: Dataset_csv_npy_64x1/candle.npy  \n",
            "  inflating: Dataset_csv_npy_64x1/ceiling fan.npy  \n",
            "  inflating: Dataset_csv_npy_64x1/cell phone.npy  \n",
            "  inflating: Dataset_csv_npy_64x1/chair.npy  \n",
            "  inflating: Dataset_csv_npy_64x1/donut.npy  \n",
            "  inflating: Dataset_csv_npy_64x1/door.npy  \n",
            "  inflating: Dataset_csv_npy_64x1/eyeglasses.npy  \n",
            "  inflating: Dataset_csv_npy_64x1/lollipop.npy  \n",
            "  inflating: Dataset_csv_npy_64x1/scissors.npy  \n",
            "  inflating: Dataset_csv_npy_64x1/t-shirt.npy  \n"
          ],
          "name": "stdout"
        }
      ]
    },
    {
      "cell_type": "markdown",
      "metadata": {
        "id": "s_JfBEa50I3a"
      },
      "source": [
        ""
      ]
    },
    {
      "cell_type": "code",
      "metadata": {
        "colab": {
          "base_uri": "https://localhost:8080/"
        },
        "id": "xao3_K4E7hqT",
        "outputId": "0d33ce8c-7a46-4464-c09c-052fa967be4f"
      },
      "source": [
        "!unzip \"/content/drive/MyDrive/doodle_64x1(92%).zip\""
      ],
      "execution_count": null,
      "outputs": [
        {
          "output_type": "stream",
          "text": [
            "Archive:  /content/drive/MyDrive/doodle_64x1(92%).zip\n",
            "  inflating: doodle_64x1(92%).h5     \n"
          ],
          "name": "stdout"
        }
      ]
    },
    {
      "cell_type": "code",
      "metadata": {
        "id": "t3brgzRYqqb5"
      },
      "source": [
        "import numpy as np\r\n",
        "from matplotlib import pyplot as plt\r\n",
        "import glob\r\n",
        "import os\r\n",
        "import matplotlib.figure\r\n",
        "from sklearn.model_selection import train_test_split\r\n",
        "import pandas as pd"
      ],
      "execution_count": null,
      "outputs": []
    },
    {
      "cell_type": "code",
      "metadata": {
        "id": "2c57X1YUnqRb"
      },
      "source": [
        "rows=4\r\n",
        "cols=5\r\n",
        "vfold_ratio=0.1, \r\n",
        "max_items_per_class=3000\r\n",
        "img_size=64\r\n",
        "batch_size=32\r\n",
        "\r\n",
        "\r\n",
        "#39\r\n",
        "epochs=100\r\n",
        "\r\n",
        "#300X300"
      ],
      "execution_count": null,
      "outputs": []
    },
    {
      "cell_type": "code",
      "metadata": {
        "colab": {
          "base_uri": "https://localhost:8080/"
        },
        "id": "hAmTmnHgvhf6",
        "outputId": "27771b1e-c601-483f-91e5-e0c7d3e02c60"
      },
      "source": [
        "all_files = glob.glob(os.path.join('/content/Dataset_csv_npy_64x1', '*.npy'))\r\n",
        "all_files.sort()\r\n",
        "len(all_files)"
      ],
      "execution_count": null,
      "outputs": [
        {
          "output_type": "execute_result",
          "data": {
            "text/plain": [
              "26"
            ]
          },
          "metadata": {
            "tags": []
          },
          "execution_count": 25
        }
      ]
    },
    {
      "cell_type": "code",
      "metadata": {
        "colab": {
          "base_uri": "https://localhost:8080/"
        },
        "id": "rNDqyO7Mn2fV",
        "outputId": "4f1de678-2254-4406-b8cc-e1d144b9dcb5"
      },
      "source": [
        "#initialize variables \r\n",
        "x = np.empty([0, 64,64,1])\r\n",
        "y = np.empty([0])\r\n",
        "class_names = []\r\n",
        "#test_label=[]\r\n",
        "#testx=np.empty([0,784])\r\n",
        "    #load each data file \r\n",
        "for idx, file in enumerate(all_files):\r\n",
        "    data = np.load(file)\r\n",
        "    #test = data[0:max_items_per_class, :]\r\n",
        "    data = data[0: max_items_per_class, :]\r\n",
        "    labels = np.full(data.shape[0], idx)\r\n",
        "    x = np.concatenate((x, data), axis=0)\r\n",
        "    #testx= np.concatenate((testx, test), axis=0)\r\n",
        "    y = np.append(y, labels)\r\n",
        "\r\n",
        "    class_name, ext = os.path.splitext(os.path.basename(file))\r\n",
        "    class_name=class_name.split('_')[-1].split('.')[0]\r\n",
        "    class_names.append(class_name)\r\n",
        "data = None\r\n",
        "labels = None\r\n",
        "    \r\n",
        "    #randomize the dataset \r\n",
        "permutation = np.random.permutation(y.shape[0])\r\n",
        "X_train = x[permutation, :]\r\n",
        "y = y[permutation].astype(int)\r\n",
        "\r\n",
        "X_train.shape"
      ],
      "execution_count": null,
      "outputs": [
        {
          "output_type": "execute_result",
          "data": {
            "text/plain": [
              "(78000, 64, 64, 1)"
            ]
          },
          "metadata": {
            "tags": []
          },
          "execution_count": 26
        }
      ]
    },
    {
      "cell_type": "code",
      "metadata": {
        "id": "iE_1GXI1pjKp"
      },
      "source": [
        "#X = X.reshape(X.shape[0], img_size, img_size, 1).astype('float32')\r\n",
        "#testx = testx.reshape(testx.shape[0], img_size, img_size, 1).astype('float32')\r\n",
        "#testx /= 255.0\r\n",
        "X_train /= 255.0\r\n",
        "\r\n"
      ],
      "execution_count": null,
      "outputs": []
    },
    {
      "cell_type": "code",
      "metadata": {
        "colab": {
          "base_uri": "https://localhost:8080/",
          "height": 487
        },
        "id": "O9kd4iDjoNDO",
        "outputId": "d396ef88-43b5-4d9c-8e3a-fc8bc5784aad"
      },
      "source": [
        "fig, axes = plt.subplots(rows,cols, figsize=(8,8))\r\n",
        "for i in list(range(0, min(len(X_train),(rows*cols)) )):    \r\n",
        "    #fig = matplotlib.figure.Figure()\r\n",
        "    a = fig.add_subplot(rows,cols,i+1)\r\n",
        "    #a.text(10., -1.5, f'{class_names[y[i]]}')\r\n",
        "    imgplot = plt.imshow(X_train[i].reshape((64,64)), interpolation='nearest',cmap='Greys_r')\r\n",
        "    plt.xticks([])\r\n",
        "    plt.yticks([])"
      ],
      "execution_count": null,
      "outputs": [
        {
          "output_type": "display_data",
          "data": {
            "image/png": "[encoded data removed]",
            "text/plain": [
              "<Figure size 576x576 with 40 Axes>"
            ]
          },
          "metadata": {
            "tags": [],
            "needs_background": "light"
          }
        }
      ]
    },
    {
      "cell_type": "code",
      "metadata": {
        "colab": {
          "base_uri": "https://localhost:8080/"
        },
        "id": "gxCxBjKZ_E6j",
        "outputId": "a3b840da-4762-45f0-8dce-a4f24752bcaf"
      },
      "source": [
        "from tensorflow.keras.utils import to_categorical\r\n",
        "\r\n",
        "y = to_categorical(y, len(class_names))\r\n",
        "y.shape"
      ],
      "execution_count": null,
      "outputs": [
        {
          "output_type": "execute_result",
          "data": {
            "text/plain": [
              "(78000, 26)"
            ]
          },
          "metadata": {
            "tags": []
          },
          "execution_count": 29
        }
      ]
    },
    {
      "cell_type": "code",
      "metadata": {
        "colab": {
          "base_uri": "https://localhost:8080/"
        },
        "id": "GNV9wcAxoNP7",
        "outputId": "6cc35ecf-b556-4641-c4b8-4800eb75287c"
      },
      "source": [
        "#X_train /= 255.0\r\n",
        "from sklearn.model_selection import train_test_split\r\n",
        "X_train, X_test, y_train, y_test = train_test_split(X_train, y, test_size=0.20, random_state=0)\r\n",
        "\r\n",
        "X_train=X_train.reshape(X_train.shape[0],64,64,1)\r\n",
        "X_test=X_test.reshape(X_test.shape[0],64,64,1)\r\n",
        "print(X_train.shape)\r\n",
        "print(X_test.shape)\r\n",
        "print(y_train.shape)\r\n",
        "print(y_test.shape)\r\n"
      ],
      "execution_count": null,
      "outputs": [
        {
          "output_type": "stream",
          "text": [
            "(62400, 64, 64, 1)\n",
            "(15600, 64, 64, 1)\n",
            "(62400, 26)\n",
            "(15600, 26)\n"
          ],
          "name": "stdout"
        }
      ]
    },
    {
      "cell_type": "code",
      "metadata": {
        "id": "PaVACGYhtza2"
      },
      "source": [
        "from keras.preprocessing.image import ImageDataGenerator\r\n",
        "datagen = ImageDataGenerator(\r\n",
        "        featurewise_center=False,  # set input mean to 0 over the dataset\r\n",
        "        samplewise_center=False,  # set each sample mean to 0\r\n",
        "        featurewise_std_normalization=False,  # divide inputs by std of the dataset\r\n",
        "        samplewise_std_normalization=False,  # divide each input by its std\r\n",
        "        zca_whitening=False,  # apply ZCA whitening\r\n",
        "        rotation_range = 30,  # randomly rotate images in the range (degrees, 0 to 180)\r\n",
        "        zoom_range = 0.2, # Randomly zoom image \r\n",
        "        width_shift_range=0.1,  # randomly shift images horizontally (fraction of total width)\r\n",
        "        height_shift_range=0.1,  # randomly shift images vertically (fraction of total height)\r\n",
        "        horizontal_flip = True,  # randomly flip images\r\n",
        "        vertical_flip=False)  # randomly flip images\r\n",
        "\r\n",
        "\r\n",
        "datagen.fit(X_train)"
      ],
      "execution_count": null,
      "outputs": []
    },
    {
      "cell_type": "code",
      "metadata": {
        "id": "znq1yirIprEi"
      },
      "source": [
        "from keras.applications.inception_resnet_v2 import InceptionResNetV2\r\n",
        "from keras.applications.resnet50 import preprocess_input,decode_predictions\r\n",
        "from keras.applications.vgg16 import VGG16\r\n",
        "from keras.applications.nasnet import NASNetLarge\r\n",
        "from keras.applications.xception import Xception\r\n",
        "from keras import Sequential\r\n",
        "from tensorflow.keras.layers import Dense, Activation, Conv2D, Flatten, Dropout, MaxPooling2D, BatchNormalization, GlobalAveragePooling2D\r\n",
        "from tensorflow.keras.callbacks import EarlyStopping\r\n",
        "from tensorflow.keras.callbacks import ModelCheckpoint\r\n",
        "from keras.regularizers import l1\r\n",
        "from keras.regularizers import l2\r\n",
        "from keras.regularizers import l1_l2\r\n",
        "from tensorflow.keras.optimizers import Adam\r\n",
        "from tensorflow.keras.optimizers import SGD\r\n",
        "from tensorflow.keras.optimizers import RMSprop\r\n",
        "#resnet = NASNetLarge(include_top=True,weights='imagenet')\r\n",
        "from keras.models import Model\r\n",
        "from keras.applications.resnet50 import ResNet50\r\n"
      ],
      "execution_count": null,
      "outputs": []
    },
    {
      "cell_type": "code",
      "metadata": {
        "id": "LPZv2lLCp0uR"
      },
      "source": [
        "model = Sequential()\r\n",
        "model.add(Conv2D(128, (3, 3),padding='same',input_shape=X_train.shape[1:], activation='relu'))\r\n",
        "model.add(BatchNormalization(momentum = 0.8))\r\n",
        "model.add(Conv2D(16, (3, 3),padding='same',input_shape=X_train.shape[1:], activation='relu'))\r\n",
        "model.add(MaxPooling2D(pool_size=(2, 2)))\r\n",
        "\r\n",
        "\r\n",
        "model.add(Conv2D(64, (3, 3), padding='same', activation= 'relu'))\r\n",
        "model.add(Conv2D(16, (3, 3), padding='same', activation= 'relu'))\r\n",
        "model.add(BatchNormalization(momentum = 0.8))\r\n",
        "model.add(MaxPooling2D(pool_size=(2, 2)))\r\n",
        "\r\n",
        "model.add(Conv2D(32, (3, 3), padding='same', activation= 'relu'))\r\n",
        "model.add(Conv2D(16, (3, 3), padding='same', activation= 'relu'))\r\n",
        "model.add(BatchNormalization(momentum = 0.8))\r\n",
        "model.add(MaxPooling2D(pool_size =(2,2)))\r\n",
        "\r\n",
        "model.add(Dropout(0.4))\r\n",
        "model.add(Flatten())\r\n",
        "model.add(Dense(512, activation='tanh'))\r\n",
        "model.add(Dense(26, activation='softmax')) \r\n"
      ],
      "execution_count": null,
      "outputs": []
    },
    {
      "cell_type": "code",
      "metadata": {
        "id": "uLRnTVrNhNt6"
      },
      "source": [
        "model = Sequential()\r\n",
        "model.add(Conv2D(128, (3, 3),padding='same',kernel_initializer='glorot_normal',input_shape=X_train.shape[1:], activation='relu'))\r\n",
        "model.add(BatchNormalization(momentum = 0.8))\r\n",
        "model.add(Conv2D(16, (3, 3),padding='same',input_shape=X_train.shape[1:], activation='relu'))\r\n",
        "model.add(MaxPooling2D(pool_size=(2, 2)))\r\n",
        "model.add(Dropout(0.4))\r\n",
        "\r\n",
        "\r\n",
        "model.add(Conv2D(64, (3, 3), padding='same', activation= 'relu'))\r\n",
        "model.add(Conv2D(16, (3, 3), padding='same', activation= 'relu'))\r\n",
        "model.add(BatchNormalization(momentum = 0.8))\r\n",
        "model.add(MaxPooling2D(pool_size=(2, 2)))\r\n",
        "model.add(Dropout(0.4))\r\n",
        "\r\n",
        "model.add(Conv2D(32, (3, 3), padding='same', activation= 'relu'))\r\n",
        "model.add(Conv2D(16, (3, 3), padding='same', activation= 'relu'))\r\n",
        "model.add(BatchNormalization(momentum = 0.8))\r\n",
        "model.add(MaxPooling2D(pool_size =(2,2)))\r\n",
        "model.add(Dropout(0.4))\r\n",
        "\r\n",
        "model.add(Flatten())\r\n",
        "model.add(Dense(512, activation='relu'))\r\n",
        "model.add(Dropout(0.4))\r\n",
        "model.add(Dense(26, activation='softmax')) \r\n"
      ],
      "execution_count": null,
      "outputs": []
    },
    {
      "cell_type": "code",
      "metadata": {
        "id": "nlgdyhJC45c1"
      },
      "source": [
        "model_r = ResNet50(include_top = True, weights= None, input_shape=(64, 64, 1), classes = 26)\r\n",
        "model_r.compile(optimizer = 'adam', loss = 'categorical_crossentropy', metrics = ['acc'])\r\n"
      ],
      "execution_count": null,
      "outputs": []
    },
    {
      "cell_type": "code",
      "metadata": {
        "colab": {
          "base_uri": "https://localhost:8080/"
        },
        "id": "mJgxR6Igp0-g",
        "outputId": "be5129a2-542b-4332-dd45-d988f29d3f44"
      },
      "source": [
        "model.summary()"
      ],
      "execution_count": null,
      "outputs": [
        {
          "output_type": "stream",
          "text": [
            "Model: \"sequential_2\"\n",
            "_________________________________________________________________\n",
            "Layer (type)                 Output Shape              Param #   \n",
            "=================================================================\n",
            "conv2d_12 (Conv2D)           (None, 64, 64, 128)       1280      \n",
            "_________________________________________________________________\n",
            "batch_normalization_6 (Batch (None, 64, 64, 128)       512       \n",
            "_________________________________________________________________\n",
            "conv2d_13 (Conv2D)           (None, 64, 64, 16)        18448     \n",
            "_________________________________________________________________\n",
            "max_pooling2d_6 (MaxPooling2 (None, 32, 32, 16)        0         \n",
            "_________________________________________________________________\n",
            "dropout_5 (Dropout)          (None, 32, 32, 16)        0         \n",
            "_________________________________________________________________\n",
            "conv2d_14 (Conv2D)           (None, 32, 32, 64)        9280      \n",
            "_________________________________________________________________\n",
            "conv2d_15 (Conv2D)           (None, 32, 32, 16)        9232      \n",
            "_________________________________________________________________\n",
            "batch_normalization_7 (Batch (None, 32, 32, 16)        64        \n",
            "_________________________________________________________________\n",
            "max_pooling2d_7 (MaxPooling2 (None, 16, 16, 16)        0         \n",
            "_________________________________________________________________\n",
            "dropout_6 (Dropout)          (None, 16, 16, 16)        0         \n",
            "_________________________________________________________________\n",
            "conv2d_16 (Conv2D)           (None, 16, 16, 32)        4640      \n",
            "_________________________________________________________________\n",
            "conv2d_17 (Conv2D)           (None, 16, 16, 16)        4624      \n",
            "_________________________________________________________________\n",
            "batch_normalization_8 (Batch (None, 16, 16, 16)        64        \n",
            "_________________________________________________________________\n",
            "max_pooling2d_8 (MaxPooling2 (None, 8, 8, 16)          0         \n",
            "_________________________________________________________________\n",
            "dropout_7 (Dropout)          (None, 8, 8, 16)          0         \n",
            "_________________________________________________________________\n",
            "flatten_2 (Flatten)          (None, 1024)              0         \n",
            "_________________________________________________________________\n",
            "dense_4 (Dense)              (None, 512)               524800    \n",
            "_________________________________________________________________\n",
            "dropout_8 (Dropout)          (None, 512)               0         \n",
            "_________________________________________________________________\n",
            "dense_5 (Dense)              (None, 26)                13338     \n",
            "=================================================================\n",
            "Total params: 586,282\n",
            "Trainable params: 585,962\n",
            "Non-trainable params: 320\n",
            "_________________________________________________________________\n"
          ],
          "name": "stdout"
        }
      ]
    },
    {
      "cell_type": "code",
      "metadata": {
        "id": "PB3jdECnp6PC"
      },
      "source": [
        "from keras.optimizers import Adam\r\n",
        "\r\n",
        "\r\n",
        "model.compile(optimizer=Adam(0.001),loss =\"categorical_crossentropy\",metrics=['acc'])\r\n"
      ],
      "execution_count": null,
      "outputs": []
    },
    {
      "cell_type": "code",
      "metadata": {
        "id": "AQC6MPIzp9il"
      },
      "source": [
        "from keras.callbacks import ReduceLROnPlateau,EarlyStopping\r\n",
        "erlystop=EarlyStopping(monitor='val_acc', min_delta=0, patience=7, verbose=0,mode='max', baseline=None)\r\n",
        "cp_callback = ModelCheckpoint('/content/checkpoint', verbose=1, save_weights_only=True,save_freq='epoch',save_best_only=True,monitor='val_acc',mode='max')\r\n",
        "rlrop = ReduceLROnPlateau(monitor='val_acc', patience=3,verbose=1,mode='max')"
      ],
      "execution_count": null,
      "outputs": []
    },
    {
      "cell_type": "code",
      "metadata": {
        "colab": {
          "base_uri": "https://localhost:8080/"
        },
        "id": "vT8dtJYvp_Nc",
        "outputId": "1a4d3210-a179-4bf5-a697-43344a4779f3"
      },
      "source": [
        "model.fit(X_train,\r\n",
        "      y_train,\r\n",
        "      epochs=epochs,\r\n",
        "      batch_size=batch_size,\r\n",
        "      #validation_split=0.3, # 1000 images = batch_size * steps\r\n",
        "      validation_data=(X_test,y_test),\t\r\n",
        "      callbacks=[cp_callback,rlrop,erlystop],\r\n",
        "      verbose=1)\r\n"
      ],
      "execution_count": null,
      "outputs": [
        {
          "output_type": "stream",
          "text": [
            "Epoch 1/100\n",
            "1950/1950 [==============================] - 25s 13ms/step - loss: 1.8791 - acc: 0.4895 - val_loss: 0.6435 - val_acc: 0.8106\n",
            "\n",
            "Epoch 00001: val_acc improved from -inf to 0.81064, saving model to /content/checkpoint\n",
            "Epoch 2/100\n",
            "1950/1950 [==============================] - 24s 12ms/step - loss: 0.7667 - acc: 0.7725 - val_loss: 0.4918 - val_acc: 0.8537\n",
            "\n",
            "Epoch 00002: val_acc improved from 0.81064 to 0.85365, saving model to /content/checkpoint\n",
            "Epoch 3/100\n",
            "1950/1950 [==============================] - 24s 12ms/step - loss: 0.6196 - acc: 0.8166 - val_loss: 0.4305 - val_acc: 0.8732\n",
            "\n",
            "Epoch 00003: val_acc improved from 0.85365 to 0.87321, saving model to /content/checkpoint\n",
            "Epoch 4/100\n",
            "1950/1950 [==============================] - 24s 12ms/step - loss: 0.5388 - acc: 0.8393 - val_loss: 0.3875 - val_acc: 0.8858\n",
            "\n",
            "Epoch 00004: val_acc improved from 0.87321 to 0.88577, saving model to /content/checkpoint\n",
            "Epoch 5/100\n",
            "1950/1950 [==============================] - 24s 12ms/step - loss: 0.4907 - acc: 0.8534 - val_loss: 0.3496 - val_acc: 0.8994\n",
            "\n",
            "Epoch 00005: val_acc improved from 0.88577 to 0.89936, saving model to /content/checkpoint\n",
            "Epoch 6/100\n",
            "1950/1950 [==============================] - 24s 12ms/step - loss: 0.4622 - acc: 0.8628 - val_loss: 0.3239 - val_acc: 0.9071\n",
            "\n",
            "Epoch 00006: val_acc improved from 0.89936 to 0.90712, saving model to /content/checkpoint\n",
            "Epoch 7/100\n",
            "1950/1950 [==============================] - 24s 12ms/step - loss: 0.4211 - acc: 0.8738 - val_loss: 0.3158 - val_acc: 0.9073\n",
            "\n",
            "Epoch 00007: val_acc improved from 0.90712 to 0.90731, saving model to /content/checkpoint\n",
            "Epoch 8/100\n",
            "1950/1950 [==============================] - 24s 12ms/step - loss: 0.3938 - acc: 0.8807 - val_loss: 0.2997 - val_acc: 0.9126\n",
            "\n",
            "Epoch 00008: val_acc improved from 0.90731 to 0.91263, saving model to /content/checkpoint\n",
            "Epoch 9/100\n",
            "1950/1950 [==============================] - 24s 12ms/step - loss: 0.3773 - acc: 0.8855 - val_loss: 0.2887 - val_acc: 0.9152\n",
            "\n",
            "Epoch 00009: val_acc improved from 0.91263 to 0.91519, saving model to /content/checkpoint\n",
            "Epoch 10/100\n",
            "1950/1950 [==============================] - 24s 12ms/step - loss: 0.3617 - acc: 0.8903 - val_loss: 0.2891 - val_acc: 0.9137\n",
            "\n",
            "Epoch 00010: val_acc did not improve from 0.91519\n",
            "Epoch 11/100\n",
            "1950/1950 [==============================] - 24s 12ms/step - loss: 0.3464 - acc: 0.8940 - val_loss: 0.2878 - val_acc: 0.9143\n",
            "\n",
            "Epoch 00011: val_acc did not improve from 0.91519\n",
            "Epoch 12/100\n",
            "1950/1950 [==============================] - 24s 12ms/step - loss: 0.3386 - acc: 0.8946 - val_loss: 0.2706 - val_acc: 0.9194\n",
            "\n",
            "Epoch 00012: val_acc improved from 0.91519 to 0.91942, saving model to /content/checkpoint\n",
            "Epoch 13/100\n",
            "1950/1950 [==============================] - 24s 12ms/step - loss: 0.3271 - acc: 0.8985 - val_loss: 0.2619 - val_acc: 0.9208\n",
            "\n",
            "Epoch 00013: val_acc improved from 0.91942 to 0.92077, saving model to /content/checkpoint\n",
            "Epoch 14/100\n",
            "1950/1950 [==============================] - 24s 12ms/step - loss: 0.3184 - acc: 0.9006 - val_loss: 0.2598 - val_acc: 0.9248\n",
            "\n",
            "Epoch 00014: val_acc improved from 0.92077 to 0.92481, saving model to /content/checkpoint\n",
            "Epoch 15/100\n",
            "1950/1950 [==============================] - 24s 12ms/step - loss: 0.3144 - acc: 0.9025 - val_loss: 0.2529 - val_acc: 0.9252\n",
            "\n",
            "Epoch 00015: val_acc improved from 0.92481 to 0.92519, saving model to /content/checkpoint\n",
            "Epoch 16/100\n",
            "1950/1950 [==============================] - 24s 12ms/step - loss: 0.3041 - acc: 0.9068 - val_loss: 0.2540 - val_acc: 0.9237\n",
            "\n",
            "Epoch 00016: val_acc did not improve from 0.92519\n",
            "Epoch 17/100\n",
            "1950/1950 [==============================] - 24s 12ms/step - loss: 0.2948 - acc: 0.9075 - val_loss: 0.2524 - val_acc: 0.9256\n",
            "\n",
            "Epoch 00017: val_acc improved from 0.92519 to 0.92564, saving model to /content/checkpoint\n",
            "Epoch 18/100\n",
            "1950/1950 [==============================] - 24s 12ms/step - loss: 0.2875 - acc: 0.9106 - val_loss: 0.2480 - val_acc: 0.9281\n",
            "\n",
            "Epoch 00018: val_acc improved from 0.92564 to 0.92814, saving model to /content/checkpoint\n",
            "Epoch 19/100\n",
            "1950/1950 [==============================] - 24s 12ms/step - loss: 0.2796 - acc: 0.9117 - val_loss: 0.2422 - val_acc: 0.9297\n",
            "\n",
            "Epoch 00019: val_acc improved from 0.92814 to 0.92968, saving model to /content/checkpoint\n",
            "Epoch 20/100\n",
            "1950/1950 [==============================] - 24s 12ms/step - loss: 0.2709 - acc: 0.9151 - val_loss: 0.2386 - val_acc: 0.9286\n",
            "\n",
            "Epoch 00020: val_acc did not improve from 0.92968\n",
            "Epoch 21/100\n",
            "1950/1950 [==============================] - 24s 13ms/step - loss: 0.2685 - acc: 0.9170 - val_loss: 0.2432 - val_acc: 0.9302\n",
            "\n",
            "Epoch 00021: val_acc improved from 0.92968 to 0.93019, saving model to /content/checkpoint\n",
            "Epoch 22/100\n",
            "1950/1950 [==============================] - 24s 12ms/step - loss: 0.2582 - acc: 0.9195 - val_loss: 0.2517 - val_acc: 0.9267\n",
            "\n",
            "Epoch 00022: val_acc did not improve from 0.93019\n",
            "Epoch 23/100\n",
            "1950/1950 [==============================] - 24s 12ms/step - loss: 0.2547 - acc: 0.9208 - val_loss: 0.2411 - val_acc: 0.9288\n",
            "\n",
            "Epoch 00023: val_acc did not improve from 0.93019\n",
            "Epoch 24/100\n",
            "1950/1950 [==============================] - 24s 12ms/step - loss: 0.2584 - acc: 0.9183 - val_loss: 0.2445 - val_acc: 0.9288\n",
            "\n",
            "Epoch 00024: val_acc did not improve from 0.93019\n",
            "\n",
            "Epoch 00024: ReduceLROnPlateau reducing learning rate to 0.00010000000474974513.\n",
            "Epoch 25/100\n",
            "1950/1950 [==============================] - 24s 12ms/step - loss: 0.2333 - acc: 0.9260 - val_loss: 0.2261 - val_acc: 0.9339\n",
            "\n",
            "Epoch 00025: val_acc improved from 0.93019 to 0.93391, saving model to /content/checkpoint\n",
            "Epoch 26/100\n",
            "1950/1950 [==============================] - 24s 12ms/step - loss: 0.2157 - acc: 0.9309 - val_loss: 0.2263 - val_acc: 0.9351\n",
            "\n",
            "Epoch 00026: val_acc improved from 0.93391 to 0.93506, saving model to /content/checkpoint\n",
            "Epoch 27/100\n",
            "1950/1950 [==============================] - 24s 12ms/step - loss: 0.2093 - acc: 0.9331 - val_loss: 0.2254 - val_acc: 0.9352\n",
            "\n",
            "Epoch 00027: val_acc improved from 0.93506 to 0.93519, saving model to /content/checkpoint\n",
            "Epoch 28/100\n",
            "1950/1950 [==============================] - 24s 12ms/step - loss: 0.2114 - acc: 0.9324 - val_loss: 0.2248 - val_acc: 0.9342\n",
            "\n",
            "Epoch 00028: val_acc did not improve from 0.93519\n",
            "Epoch 29/100\n",
            "1950/1950 [==============================] - 24s 12ms/step - loss: 0.1965 - acc: 0.9378 - val_loss: 0.2230 - val_acc: 0.9358\n",
            "\n",
            "Epoch 00029: val_acc improved from 0.93519 to 0.93577, saving model to /content/checkpoint\n",
            "Epoch 30/100\n",
            "1950/1950 [==============================] - 24s 12ms/step - loss: 0.2003 - acc: 0.9353 - val_loss: 0.2217 - val_acc: 0.9367\n",
            "\n",
            "Epoch 00030: val_acc improved from 0.93577 to 0.93673, saving model to /content/checkpoint\n",
            "Epoch 31/100\n",
            "1950/1950 [==============================] - 24s 12ms/step - loss: 0.2009 - acc: 0.9357 - val_loss: 0.2229 - val_acc: 0.9371\n",
            "\n",
            "Epoch 00031: val_acc improved from 0.93673 to 0.93705, saving model to /content/checkpoint\n",
            "Epoch 32/100\n",
            "1950/1950 [==============================] - 24s 12ms/step - loss: 0.1953 - acc: 0.9373 - val_loss: 0.2249 - val_acc: 0.9364\n",
            "\n",
            "Epoch 00032: val_acc did not improve from 0.93705\n",
            "Epoch 33/100\n",
            "1950/1950 [==============================] - 24s 12ms/step - loss: 0.1936 - acc: 0.9372 - val_loss: 0.2234 - val_acc: 0.9363\n",
            "\n",
            "Epoch 00033: val_acc did not improve from 0.93705\n",
            "Epoch 34/100\n",
            "1950/1950 [==============================] - 24s 13ms/step - loss: 0.1962 - acc: 0.9373 - val_loss: 0.2231 - val_acc: 0.9368\n",
            "\n",
            "Epoch 00034: val_acc did not improve from 0.93705\n",
            "\n",
            "Epoch 00034: ReduceLROnPlateau reducing learning rate to 1.0000000474974514e-05.\n",
            "Epoch 35/100\n",
            "1950/1950 [==============================] - 24s 12ms/step - loss: 0.1915 - acc: 0.9394 - val_loss: 0.2251 - val_acc: 0.9353\n",
            "\n",
            "Epoch 00035: val_acc did not improve from 0.93705\n",
            "Epoch 36/100\n",
            "1950/1950 [==============================] - 24s 12ms/step - loss: 0.1901 - acc: 0.9401 - val_loss: 0.2210 - val_acc: 0.9369\n",
            "\n",
            "Epoch 00036: val_acc did not improve from 0.93705\n",
            "Epoch 37/100\n",
            "1950/1950 [==============================] - 24s 12ms/step - loss: 0.1887 - acc: 0.9400 - val_loss: 0.2251 - val_acc: 0.9363\n",
            "\n",
            "Epoch 00037: val_acc did not improve from 0.93705\n",
            "\n",
            "Epoch 00037: ReduceLROnPlateau reducing learning rate to 1.0000000656873453e-06.\n",
            "Epoch 38/100\n",
            "1950/1950 [==============================] - 24s 12ms/step - loss: 0.1910 - acc: 0.9391 - val_loss: 0.2213 - val_acc: 0.9377\n",
            "\n",
            "Epoch 00038: val_acc improved from 0.93705 to 0.93769, saving model to /content/checkpoint\n",
            "Epoch 39/100\n",
            "1950/1950 [==============================] - 24s 12ms/step - loss: 0.1846 - acc: 0.9405 - val_loss: 0.2239 - val_acc: 0.9358\n",
            "\n",
            "Epoch 00039: val_acc did not improve from 0.93769\n",
            "Epoch 40/100\n",
            "1950/1950 [==============================] - 24s 12ms/step - loss: 0.1840 - acc: 0.9426 - val_loss: 0.2191 - val_acc: 0.9377\n",
            "\n",
            "Epoch 00040: val_acc did not improve from 0.93769\n",
            "Epoch 41/100\n",
            "1950/1950 [==============================] - 24s 12ms/step - loss: 0.1862 - acc: 0.9415 - val_loss: 0.2249 - val_acc: 0.9360\n",
            "\n",
            "Epoch 00041: val_acc did not improve from 0.93769\n",
            "\n",
            "Epoch 00041: ReduceLROnPlateau reducing learning rate to 1.0000001111620805e-07.\n",
            "Epoch 42/100\n",
            "1950/1950 [==============================] - 24s 13ms/step - loss: 0.1953 - acc: 0.9371 - val_loss: 0.2250 - val_acc: 0.9362\n",
            "\n",
            "Epoch 00042: val_acc did not improve from 0.93769\n",
            "Epoch 43/100\n",
            "1950/1950 [==============================] - 24s 12ms/step - loss: 0.1912 - acc: 0.9379 - val_loss: 0.2243 - val_acc: 0.9369\n",
            "\n",
            "Epoch 00043: val_acc did not improve from 0.93769\n",
            "Epoch 44/100\n",
            "1950/1950 [==============================] - 24s 12ms/step - loss: 0.1895 - acc: 0.9387 - val_loss: 0.2216 - val_acc: 0.9376\n",
            "\n",
            "Epoch 00044: val_acc did not improve from 0.93769\n",
            "\n",
            "Epoch 00044: ReduceLROnPlateau reducing learning rate to 1.000000082740371e-08.\n",
            "Epoch 45/100\n",
            "1950/1950 [==============================] - 24s 12ms/step - loss: 0.1914 - acc: 0.9390 - val_loss: 0.2240 - val_acc: 0.9368\n",
            "\n",
            "Epoch 00045: val_acc did not improve from 0.93769\n"
          ],
          "name": "stdout"
        },
        {
          "output_type": "execute_result",
          "data": {
            "text/plain": [
              "<tensorflow.python.keras.callbacks.History at 0x7f9dc1f64358>"
            ]
          },
          "metadata": {
            "tags": []
          },
          "execution_count": 37
        }
      ]
    },
    {
      "cell_type": "code",
      "metadata": {
        "colab": {
          "base_uri": "https://localhost:8080/"
        },
        "id": "1H3P8kU8NJhe",
        "outputId": "8b44e1ee-9e54-46c7-bfc7-eac751b71979"
      },
      "source": [
        "\r\n",
        "model.evaluate(X_test,y_test)"
      ],
      "execution_count": null,
      "outputs": [
        {
          "output_type": "stream",
          "text": [
            "488/488 [==============================] - 2s 5ms/step - loss: 0.2240 - acc: 0.9368\n"
          ],
          "name": "stdout"
        },
        {
          "output_type": "execute_result",
          "data": {
            "text/plain": [
              "[0.22395086288452148, 0.9367948770523071]"
            ]
          },
          "metadata": {
            "tags": []
          },
          "execution_count": 38
        }
      ]
    },
    {
      "cell_type": "code",
      "metadata": {
        "id": "26Fg4KpFyxrn"
      },
      "source": [
        "model.save('doodle_best(93%).h5')"
      ],
      "execution_count": null,
      "outputs": []
    },
    {
      "cell_type": "code",
      "metadata": {
        "id": "CUnZkT5i792I",
        "colab": {
          "base_uri": "https://localhost:8080/",
          "height": 370
        },
        "outputId": "61d8fbdb-84f8-4ac2-ae8d-273aab091726"
      },
      "source": [
        "from keras.models import load_model\r\n",
        "\r\n",
        "model = load_model('/content/checkpoint')"
      ],
      "execution_count": null,
      "outputs": [
        {
          "output_type": "error",
          "ename": "OSError",
          "evalue": "ignored",
          "traceback": [
            "\u001b[0;31m---------------------------------------------------------------------------\u001b[0m",
            "\u001b[0;31mOSError\u001b[0m                                   Traceback (most recent call last)",
            "\u001b[0;32m<ipython-input-17-dffb260dfc6e>\u001b[0m in \u001b[0;36m<module>\u001b[0;34m()\u001b[0m\n\u001b[1;32m      1\u001b[0m \u001b[0;32mfrom\u001b[0m \u001b[0mkeras\u001b[0m\u001b[0;34m.\u001b[0m\u001b[0mmodels\u001b[0m \u001b[0;32mimport\u001b[0m \u001b[0mload_model\u001b[0m\u001b[0;34m\u001b[0m\u001b[0;34m\u001b[0m\u001b[0m\n\u001b[1;32m      2\u001b[0m \u001b[0;34m\u001b[0m\u001b[0m\n\u001b[0;32m----> 3\u001b[0;31m \u001b[0mmodel\u001b[0m \u001b[0;34m=\u001b[0m \u001b[0mload_model\u001b[0m\u001b[0;34m(\u001b[0m\u001b[0;34m'/content/checkpoint'\u001b[0m\u001b[0;34m)\u001b[0m\u001b[0;34m\u001b[0m\u001b[0;34m\u001b[0m\u001b[0m\n\u001b[0m",
            "\u001b[0;32m/usr/local/lib/python3.6/dist-packages/tensorflow/python/keras/saving/save.py\u001b[0m in \u001b[0;36mload_model\u001b[0;34m(filepath, custom_objects, compile, options)\u001b[0m\n\u001b[1;32m    209\u001b[0m       \u001b[0mfilepath\u001b[0m \u001b[0;34m=\u001b[0m \u001b[0mpath_to_string\u001b[0m\u001b[0;34m(\u001b[0m\u001b[0mfilepath\u001b[0m\u001b[0;34m)\u001b[0m\u001b[0;34m\u001b[0m\u001b[0;34m\u001b[0m\u001b[0m\n\u001b[1;32m    210\u001b[0m       \u001b[0;32mif\u001b[0m \u001b[0misinstance\u001b[0m\u001b[0;34m(\u001b[0m\u001b[0mfilepath\u001b[0m\u001b[0;34m,\u001b[0m \u001b[0msix\u001b[0m\u001b[0;34m.\u001b[0m\u001b[0mstring_types\u001b[0m\u001b[0;34m)\u001b[0m\u001b[0;34m:\u001b[0m\u001b[0;34m\u001b[0m\u001b[0;34m\u001b[0m\u001b[0m\n\u001b[0;32m--> 211\u001b[0;31m         \u001b[0mloader_impl\u001b[0m\u001b[0;34m.\u001b[0m\u001b[0mparse_saved_model\u001b[0m\u001b[0;34m(\u001b[0m\u001b[0mfilepath\u001b[0m\u001b[0;34m)\u001b[0m\u001b[0;34m\u001b[0m\u001b[0;34m\u001b[0m\u001b[0m\n\u001b[0m\u001b[1;32m    212\u001b[0m         \u001b[0;32mreturn\u001b[0m \u001b[0msaved_model_load\u001b[0m\u001b[0;34m.\u001b[0m\u001b[0mload\u001b[0m\u001b[0;34m(\u001b[0m\u001b[0mfilepath\u001b[0m\u001b[0;34m,\u001b[0m \u001b[0mcompile\u001b[0m\u001b[0;34m,\u001b[0m \u001b[0moptions\u001b[0m\u001b[0;34m)\u001b[0m\u001b[0;34m\u001b[0m\u001b[0;34m\u001b[0m\u001b[0m\n\u001b[1;32m    213\u001b[0m \u001b[0;34m\u001b[0m\u001b[0m\n",
            "\u001b[0;32m/usr/local/lib/python3.6/dist-packages/tensorflow/python/saved_model/loader_impl.py\u001b[0m in \u001b[0;36mparse_saved_model\u001b[0;34m(export_dir)\u001b[0m\n\u001b[1;32m    112\u001b[0m                   (export_dir,\n\u001b[1;32m    113\u001b[0m                    \u001b[0mconstants\u001b[0m\u001b[0;34m.\u001b[0m\u001b[0mSAVED_MODEL_FILENAME_PBTXT\u001b[0m\u001b[0;34m,\u001b[0m\u001b[0;34m\u001b[0m\u001b[0;34m\u001b[0m\u001b[0m\n\u001b[0;32m--> 114\u001b[0;31m                    constants.SAVED_MODEL_FILENAME_PB))\n\u001b[0m\u001b[1;32m    115\u001b[0m \u001b[0;34m\u001b[0m\u001b[0m\n\u001b[1;32m    116\u001b[0m \u001b[0;34m\u001b[0m\u001b[0m\n",
            "\u001b[0;31mOSError\u001b[0m: SavedModel file does not exist at: /content/checkpoint/{saved_model.pbtxt|saved_model.pb}"
          ]
        }
      ]
    },
    {
      "cell_type": "code",
      "metadata": {
        "colab": {
          "base_uri": "https://localhost:8080/"
        },
        "id": "penFH-5DDWTM",
        "outputId": "9bfcd42a-03bf-41ad-b184-f7a9df3141db"
      },
      "source": [
        "all_files = glob.glob(os.path.join('/content/', '*.npy'))\r\n",
        "all_files"
      ],
      "execution_count": null,
      "outputs": [
        {
          "output_type": "execute_result",
          "data": {
            "text/plain": [
              "['/content/Player bhoomika-draw.npy',\n",
              " '/content/Player onkar-draw.npy',\n",
              " '/content/Player shanivi-draw.npy']"
            ]
          },
          "metadata": {
            "tags": []
          },
          "execution_count": 39
        }
      ]
    },
    {
      "cell_type": "code",
      "metadata": {
        "id": "4aJ3ZBOt0IkI",
        "colab": {
          "base_uri": "https://localhost:8080/"
        },
        "outputId": "aa922b97-2b5c-4ff2-88ae-e753e9fcd3b7"
      },
      "source": [
        "#initialize variables \r\n",
        "x = np.empty([0, 64,64,1])\r\n",
        "y = np.empty([0])\r\n",
        "#test_label=[]\r\n",
        "#testx=np.empty([0,784])\r\n",
        "    #load each data file \r\n",
        "for file in all_files:\r\n",
        "  data = np.load(file)\r\n",
        "    #test = data[0:max_items_per_class, :]\r\n",
        "    #data = data[0: max_items_per_class, :]\r\n",
        "    #labels = np.full(data.shape[0], idx)\r\n",
        "  x = np.concatenate((x, data), axis=0)\r\n",
        "    #testx= np.concatenate((testx, test), axis=0)\r\n",
        "#x /= 255.0\r\n",
        "_,idx=np.unique(x, axis=0,return_index=True)\r\n",
        "x=x[np.sort(idx)]\r\n",
        "print(x.shape)\r\n"
      ],
      "execution_count": null,
      "outputs": [
        {
          "output_type": "stream",
          "text": [
            "(4, 64, 64, 1)\n"
          ],
          "name": "stdout"
        }
      ]
    },
    {
      "cell_type": "code",
      "metadata": {
        "colab": {
          "base_uri": "https://localhost:8080/",
          "height": 487
        },
        "id": "NSLqz8ArDvTD",
        "outputId": "cc8ce962-ccfc-49cb-91a0-091b2bdfd181"
      },
      "source": [
        "fig, axes = plt.subplots(rows,cols, figsize=(8,8))\r\n",
        "for i in list(range(0, min(len(x),(rows*cols)) )):    \r\n",
        "    #fig = matplotlib.figure.Figure()\r\n",
        "    a = fig.add_subplot(rows,cols,i+1)\r\n",
        "    imgplot = plt.imshow(x[i].reshape((64,64)), interpolation='nearest')\r\n",
        "    plt.xticks([])\r\n",
        "    plt.yticks([])\r\n",
        "    plt.axis('off')"
      ],
      "execution_count": null,
      "outputs": [
        {
          "output_type": "display_data",
          "data": {
            "image/png": "[encoded data removed]",
            "text/plain": [
              "<Figure size 576x576 with 24 Axes>"
            ]
          },
          "metadata": {
            "tags": [],
            "needs_background": "light"
          }
        }
      ]
    },
    {
      "cell_type": "code",
      "metadata": {
        "id": "uxg_RKSiEJm6"
      },
      "source": [
        "class_names = []\r\n",
        "class_names=['t-shirt', 'book', 'door', 'axe', 'banana', 'donut', 'belt', 'eyeglasses', 'butterfly', 'alarm clock', 'lollipop', 'cell phone', 'scissors', 'bucket', 'basketball', 'bed', 'airplane', 'ceiling fan', 'backpack', 'apple', 'baseball bat', 'chair', 'candle', 'arm', 'bandage', 'birthday cake']\r\n",
        "class_names=sorted(class_names)\r\n"
      ],
      "execution_count": null,
      "outputs": []
    },
    {
      "cell_type": "code",
      "metadata": {
        "colab": {
          "base_uri": "https://localhost:8080/"
        },
        "id": "1LkAtUGkzNvt",
        "outputId": "02228d1f-f646-4c26-8ee2-cfb3c7b291d4"
      },
      "source": [
        "pred=model.predict(x)\r\n",
        "predictions=[]\r\n",
        "for p in pred:\r\n",
        "  predictions.append(class_names[np.argmax(p)])\r\n",
        "print(predictions)\r\n",
        "#if class_name == catego  ry_name:\r\n",
        "#  score+=1\r\n",
        "#else:\r\n",
        "#  pass"
      ],
      "execution_count": null,
      "outputs": [
        {
          "output_type": "stream",
          "text": [
            "['ceiling fan', 'axe', 'bandage', 'eyeglasses']\n"
          ],
          "name": "stdout"
        }
      ]
    },
    {
      "cell_type": "code",
      "metadata": {
        "colab": {
          "base_uri": "https://localhost:8080/"
        },
        "id": "LjSyjW7QzRzj",
        "outputId": "5da94fb0-7baa-44df-9441-7ba6158c0a08"
      },
      "source": [
        "class_name=class_names[np.argmax(pred[0])]\r\n",
        "print(class_name)\r\n",
        "#if class_name == category_name:\r\n",
        "#  score+=1\r\n",
        "#else:\r\n",
        "#  pass"
      ],
      "execution_count": null,
      "outputs": [
        {
          "output_type": "stream",
          "text": [
            "eyeglasses\n"
          ],
          "name": "stdout"
        }
      ]
    },
    {
      "cell_type": "code",
      "metadata": {
        "colab": {
          "base_uri": "https://localhost:8080/"
        },
        "id": "EwtAs2xwCsqn",
        "outputId": "26e8706b-67d8-4726-ede1-e59e1bbc9f0f"
      },
      "source": [
        "!unzip \"/content/drive/My Drive/Dataset_csv.zip\""
      ],
      "execution_count": null,
      "outputs": [
        {
          "output_type": "stream",
          "text": [
            "Archive:  /content/drive/My Drive/Dataset_csv.zip\n",
            "   creating: Dataset_csv/\n",
            "  inflating: Dataset_csv/airplane.csv  \n",
            "  inflating: Dataset_csv/alarm clock.csv  \n",
            "  inflating: Dataset_csv/apple.csv   \n",
            "  inflating: Dataset_csv/arm.csv     \n",
            "  inflating: Dataset_csv/axe.csv     \n",
            "  inflating: Dataset_csv/backpack.csv  \n",
            "  inflating: Dataset_csv/banana.csv  \n",
            "  inflating: Dataset_csv/bandage.csv  \n",
            "  inflating: Dataset_csv/baseball bat.csv  \n",
            "  inflating: Dataset_csv/basketball.csv  \n",
            "  inflating: Dataset_csv/bed.csv     \n",
            "  inflating: Dataset_csv/belt.csv    \n",
            "  inflating: Dataset_csv/birthday cake.csv  \n",
            "  inflating: Dataset_csv/book.csv    \n",
            "  inflating: Dataset_csv/bucket.csv  \n",
            "  inflating: Dataset_csv/butterfly.csv  \n",
            "  inflating: Dataset_csv/candle.csv  \n",
            "  inflating: Dataset_csv/ceiling fan.csv  \n",
            "  inflating: Dataset_csv/cell phone.csv  \n",
            "  inflating: Dataset_csv/chair.csv   \n",
            "  inflating: Dataset_csv/donut.csv   \n",
            "  inflating: Dataset_csv/door.csv    \n",
            "  inflating: Dataset_csv/eyeglasses.csv  \n",
            "  inflating: Dataset_csv/lollipop.csv  \n",
            "  inflating: Dataset_csv/scissors.csv  \n",
            "  inflating: Dataset_csv/t-shirt.csv  \n"
          ],
          "name": "stdout"
        }
      ]
    },
    {
      "cell_type": "code",
      "metadata": {
        "id": "5WaXS3vDgjOn"
      },
      "source": [
        "import numpy as np\r\n",
        "from matplotlib import pyplot as plt\r\n",
        "import glob\r\n",
        "import os\r\n",
        "import matplotlib.figure\r\n",
        "from sklearn.model_selection import train_test_split\r\n",
        "import pandas as pd"
      ],
      "execution_count": null,
      "outputs": []
    },
    {
      "cell_type": "code",
      "metadata": {
        "colab": {
          "base_uri": "https://localhost:8080/"
        },
        "id": "vGG7USi1DHgX",
        "outputId": "a6800bfb-76a4-4bad-fd13-bf2ed65314e9"
      },
      "source": [
        "import ast\r\n",
        "all_files = glob.glob(os.path.join('/content/Dataset_csv', '*.csv'))\r\n",
        "all_files.sort()\r\n",
        "all_files"
      ],
      "execution_count": null,
      "outputs": [
        {
          "output_type": "execute_result",
          "data": {
            "text/plain": [
              "['/content/Dataset_csv/airplane.csv',\n",
              " '/content/Dataset_csv/alarm clock.csv',\n",
              " '/content/Dataset_csv/apple.csv',\n",
              " '/content/Dataset_csv/arm.csv',\n",
              " '/content/Dataset_csv/axe.csv',\n",
              " '/content/Dataset_csv/backpack.csv',\n",
              " '/content/Dataset_csv/banana.csv',\n",
              " '/content/Dataset_csv/bandage.csv',\n",
              " '/content/Dataset_csv/baseball bat.csv',\n",
              " '/content/Dataset_csv/basketball.csv',\n",
              " '/content/Dataset_csv/bed.csv',\n",
              " '/content/Dataset_csv/belt.csv',\n",
              " '/content/Dataset_csv/birthday cake.csv',\n",
              " '/content/Dataset_csv/book.csv',\n",
              " '/content/Dataset_csv/bucket.csv',\n",
              " '/content/Dataset_csv/butterfly.csv',\n",
              " '/content/Dataset_csv/candle.csv',\n",
              " '/content/Dataset_csv/ceiling fan.csv',\n",
              " '/content/Dataset_csv/cell phone.csv',\n",
              " '/content/Dataset_csv/chair.csv',\n",
              " '/content/Dataset_csv/donut.csv',\n",
              " '/content/Dataset_csv/door.csv',\n",
              " '/content/Dataset_csv/eyeglasses.csv',\n",
              " '/content/Dataset_csv/lollipop.csv',\n",
              " '/content/Dataset_csv/scissors.csv',\n",
              " '/content/Dataset_csv/t-shirt.csv']"
            ]
          },
          "metadata": {
            "tags": []
          },
          "execution_count": 3
        }
      ]
    },
    {
      "cell_type": "code",
      "metadata": {
        "id": "R5Xkgaai0csq"
      },
      "source": [
        "import cv2\r\n",
        "from PIL import Image\r\n",
        "im_size = 64\r\n",
        "n_class = 26\r\n",
        "\r\n",
        "# redefine\r\n",
        "def draw_to_img(strokes, im_size = im_size):\r\n",
        "    fig, ax = plt.subplots()                        # plot the drawing as we did above\r\n",
        "    for x, y in strokes:\r\n",
        "        ax.plot(x, -np.array(y), lw = 10)\r\n",
        "    ax.axis('off')\r\n",
        "    \r\n",
        "    fig.canvas.draw()                               # update a figure that has been altered\r\n",
        "    A = np.array(fig.canvas.renderer._renderer)     # converting them into array\r\n",
        "    \r\n",
        "    plt.close('all')\r\n",
        "    plt.clf()\r\n",
        "    \r\n",
        "    A = (cv2.resize(A, (im_size, im_size)))  # image resizing to uniform format\r\n",
        "    A=A[:, :, :3]  \r\n",
        "    image=Image.fromarray(A)  \r\n",
        "    black = (0,0,0)\r\n",
        "    white=(255,255,255)\r\n",
        "    pixels = image.getdata()\r\n",
        "    newPixels = []\r\n",
        "\r\n",
        "# Compare each pixel \r\n",
        "    for pixel in pixels:\r\n",
        "      if pixel != white:\r\n",
        "        newPixels.append(black)\r\n",
        "      else:\r\n",
        "        newPixels.append(white)\r\n",
        "    newImg = Image.new(\"RGB\",image.size)\r\n",
        "    newImg.putdata(newPixels)\r\n",
        "    img = cv2.cvtColor(np.float32(newImg), cv2.COLOR_BGR2GRAY).reshape(64,64,1)\r\n",
        "    return img\r\n",
        "\r\n",
        "\r\n",
        "\r\n",
        "\r\n"
      ],
      "execution_count": null,
      "outputs": []
    },
    {
      "cell_type": "code",
      "metadata": {
        "colab": {
          "base_uri": "https://localhost:8080/",
          "height": 35
        },
        "id": "Wp7opzOc7GQS",
        "outputId": "3a795df7-6169-45f0-bb51-ed6f0b5f7f6a"
      },
      "source": [
        "class_names=[]\r\n",
        "all_files = sorted(glob.glob(os.path.join('/content/Dataset_csv/', '*.csv')))\r\n",
        "for name in all_files:\r\n",
        "  class_names.append(name.split('/')[-1].split('.')[0])\r\n",
        "class_names=sorted(class_names)\r\n",
        "all_files[3]\r\n"
      ],
      "execution_count": null,
      "outputs": [
        {
          "output_type": "execute_result",
          "data": {
            "application/vnd.google.colaboratory.intrinsic+json": {
              "type": "string"
            },
            "text/plain": [
              "'/content/Dataset_csv/arm.csv'"
            ]
          },
          "metadata": {
            "tags": []
          },
          "execution_count": 14
        }
      ]
    },
    {
      "cell_type": "code",
      "metadata": {
        "colab": {
          "base_uri": "https://localhost:8080/",
          "height": 50
        },
        "id": "knIliD-_qFGp",
        "outputId": "9d3bc435-f299-4ece-f8ae-e3742843eec9"
      },
      "source": [
        "import ast\r\n",
        "from google.colab import files\r\n",
        "\r\n",
        "n_samples = 3000\r\n",
        "    #print(a)\r\n",
        "    #filename = dir_path + a + '.csv'\r\n",
        "X_save = np.empty([0, 64,64,1])\r\n",
        "df = pd.read_csv(all_files[3], usecols=['drawing', 'word','recognized'])  # import the data in chunks\r\n",
        "df=df[df['recognized'] == True][:n_samples].reset_index()\r\n",
        "df['drawing'] = df.drawing.map(ast.literal_eval)                          # convert strings into list\r\n",
        "X = df.drawing.values\r\n",
        "for i in range(0,n_samples):\r\n",
        "    img=draw_to_img(X[i])\r\n",
        "    img=img.reshape(1,64,64,1)\r\n",
        "    X_save=np.concatenate((X_save, img), axis=0)\r\n",
        "print(filename)\r\n",
        "np.save(df.word[0]+'.npy', X_save)    \r\n",
        "files.download(df.word[0]+'.npy')\r\n",
        "                # covert strokes into array\r\n"
      ],
      "execution_count": null,
      "outputs": [
        {
          "output_type": "stream",
          "text": [
            "/content/Dataset_csv/t-shirt.csv\n"
          ],
          "name": "stdout"
        },
        {
          "output_type": "display_data",
          "data": {
            "application/javascript": [
              "\n",
              "    async function download(id, filename, size) {\n",
              "      if (!google.colab.kernel.accessAllowed) {\n",
              "        return;\n",
              "      }\n",
              "      const div = document.createElement('div');\n",
              "      const label = document.createElement('label');\n",
              "      label.textContent = `Downloading \"${filename}\": `;\n",
              "      div.appendChild(label);\n",
              "      const progress = document.createElement('progress');\n",
              "      progress.max = size;\n",
              "      div.appendChild(progress);\n",
              "      document.body.appendChild(div);\n",
              "\n",
              "      const buffers = [];\n",
              "      let downloaded = 0;\n",
              "\n",
              "      const channel = await google.colab.kernel.comms.open(id);\n",
              "      // Send a message to notify the kernel that we're ready.\n",
              "      channel.send({})\n",
              "\n",
              "      for await (const message of channel.messages) {\n",
              "        // Send a message to notify the kernel that we're ready.\n",
              "        channel.send({})\n",
              "        if (message.buffers) {\n",
              "          for (const buffer of message.buffers) {\n",
              "            buffers.push(buffer);\n",
              "            downloaded += buffer.byteLength;\n",
              "            progress.value = downloaded;\n",
              "          }\n",
              "        }\n",
              "      }\n",
              "      const blob = new Blob(buffers, {type: 'application/binary'});\n",
              "      const a = document.createElement('a');\n",
              "      a.href = window.URL.createObjectURL(blob);\n",
              "      a.download = filename;\n",
              "      div.appendChild(a);\n",
              "      a.click();\n",
              "      div.remove();\n",
              "    }\n",
              "  "
            ],
            "text/plain": [
              "<IPython.core.display.Javascript object>"
            ]
          },
          "metadata": {
            "tags": []
          }
        },
        {
          "output_type": "display_data",
          "data": {
            "application/javascript": [
              "download(\"download_2afa19dc-963d-449c-8484-bf89a4220cf0\", \"arm.npy\", 98304128)"
            ],
            "text/plain": [
              "<IPython.core.display.Javascript object>"
            ]
          },
          "metadata": {
            "tags": []
          }
        },
        {
          "output_type": "display_data",
          "data": {
            "text/plain": [
              "<Figure size 432x288 with 0 Axes>"
            ]
          },
          "metadata": {
            "tags": []
          }
        }
      ]
    },
    {
      "cell_type": "code",
      "metadata": {
        "id": "gycMvBTxxsLE",
        "colab": {
          "base_uri": "https://localhost:8080/",
          "height": 17
        },
        "outputId": "da87589d-9f14-423b-eaf5-c5475ded0786"
      },
      "source": [
        "from google.colab import files\r\n",
        "\r\n",
        "files.download('/content/bandage.npy')\r\n",
        "files.download('/content/alarm clock.npy')\r\n",
        "files.download('/content/apple.npy')\r\n"
      ],
      "execution_count": null,
      "outputs": [
        {
          "output_type": "display_data",
          "data": {
            "application/javascript": [
              "\n",
              "    async function download(id, filename, size) {\n",
              "      if (!google.colab.kernel.accessAllowed) {\n",
              "        return;\n",
              "      }\n",
              "      const div = document.createElement('div');\n",
              "      const label = document.createElement('label');\n",
              "      label.textContent = `Downloading \"${filename}\": `;\n",
              "      div.appendChild(label);\n",
              "      const progress = document.createElement('progress');\n",
              "      progress.max = size;\n",
              "      div.appendChild(progress);\n",
              "      document.body.appendChild(div);\n",
              "\n",
              "      const buffers = [];\n",
              "      let downloaded = 0;\n",
              "\n",
              "      const channel = await google.colab.kernel.comms.open(id);\n",
              "      // Send a message to notify the kernel that we're ready.\n",
              "      channel.send({})\n",
              "\n",
              "      for await (const message of channel.messages) {\n",
              "        // Send a message to notify the kernel that we're ready.\n",
              "        channel.send({})\n",
              "        if (message.buffers) {\n",
              "          for (const buffer of message.buffers) {\n",
              "            buffers.push(buffer);\n",
              "            downloaded += buffer.byteLength;\n",
              "            progress.value = downloaded;\n",
              "          }\n",
              "        }\n",
              "      }\n",
              "      const blob = new Blob(buffers, {type: 'application/binary'});\n",
              "      const a = document.createElement('a');\n",
              "      a.href = window.URL.createObjectURL(blob);\n",
              "      a.download = filename;\n",
              "      div.appendChild(a);\n",
              "      a.click();\n",
              "      div.remove();\n",
              "    }\n",
              "  "
            ],
            "text/plain": [
              "<IPython.core.display.Javascript object>"
            ]
          },
          "metadata": {
            "tags": []
          }
        },
        {
          "output_type": "display_data",
          "data": {
            "application/javascript": [
              "download(\"download_09b5afdf-d47b-4b7d-af35-e1dfe39349b3\", \"airplane.npy\", 131072128)"
            ],
            "text/plain": [
              "<IPython.core.display.Javascript object>"
            ]
          },
          "metadata": {
            "tags": []
          }
        },
        {
          "output_type": "display_data",
          "data": {
            "application/javascript": [
              "\n",
              "    async function download(id, filename, size) {\n",
              "      if (!google.colab.kernel.accessAllowed) {\n",
              "        return;\n",
              "      }\n",
              "      const div = document.createElement('div');\n",
              "      const label = document.createElement('label');\n",
              "      label.textContent = `Downloading \"${filename}\": `;\n",
              "      div.appendChild(label);\n",
              "      const progress = document.createElement('progress');\n",
              "      progress.max = size;\n",
              "      div.appendChild(progress);\n",
              "      document.body.appendChild(div);\n",
              "\n",
              "      const buffers = [];\n",
              "      let downloaded = 0;\n",
              "\n",
              "      const channel = await google.colab.kernel.comms.open(id);\n",
              "      // Send a message to notify the kernel that we're ready.\n",
              "      channel.send({})\n",
              "\n",
              "      for await (const message of channel.messages) {\n",
              "        // Send a message to notify the kernel that we're ready.\n",
              "        channel.send({})\n",
              "        if (message.buffers) {\n",
              "          for (const buffer of message.buffers) {\n",
              "            buffers.push(buffer);\n",
              "            downloaded += buffer.byteLength;\n",
              "            progress.value = downloaded;\n",
              "          }\n",
              "        }\n",
              "      }\n",
              "      const blob = new Blob(buffers, {type: 'application/binary'});\n",
              "      const a = document.createElement('a');\n",
              "      a.href = window.URL.createObjectURL(blob);\n",
              "      a.download = filename;\n",
              "      div.appendChild(a);\n",
              "      a.click();\n",
              "      div.remove();\n",
              "    }\n",
              "  "
            ],
            "text/plain": [
              "<IPython.core.display.Javascript object>"
            ]
          },
          "metadata": {
            "tags": []
          }
        },
        {
          "output_type": "display_data",
          "data": {
            "application/javascript": [
              "download(\"download_3fc9f9bd-1cdd-4751-9c72-d3b576b3b1f4\", \"alarm clock.npy\", 131072128)"
            ],
            "text/plain": [
              "<IPython.core.display.Javascript object>"
            ]
          },
          "metadata": {
            "tags": []
          }
        },
        {
          "output_type": "display_data",
          "data": {
            "application/javascript": [
              "\n",
              "    async function download(id, filename, size) {\n",
              "      if (!google.colab.kernel.accessAllowed) {\n",
              "        return;\n",
              "      }\n",
              "      const div = document.createElement('div');\n",
              "      const label = document.createElement('label');\n",
              "      label.textContent = `Downloading \"${filename}\": `;\n",
              "      div.appendChild(label);\n",
              "      const progress = document.createElement('progress');\n",
              "      progress.max = size;\n",
              "      div.appendChild(progress);\n",
              "      document.body.appendChild(div);\n",
              "\n",
              "      const buffers = [];\n",
              "      let downloaded = 0;\n",
              "\n",
              "      const channel = await google.colab.kernel.comms.open(id);\n",
              "      // Send a message to notify the kernel that we're ready.\n",
              "      channel.send({})\n",
              "\n",
              "      for await (const message of channel.messages) {\n",
              "        // Send a message to notify the kernel that we're ready.\n",
              "        channel.send({})\n",
              "        if (message.buffers) {\n",
              "          for (const buffer of message.buffers) {\n",
              "            buffers.push(buffer);\n",
              "            downloaded += buffer.byteLength;\n",
              "            progress.value = downloaded;\n",
              "          }\n",
              "        }\n",
              "      }\n",
              "      const blob = new Blob(buffers, {type: 'application/binary'});\n",
              "      const a = document.createElement('a');\n",
              "      a.href = window.URL.createObjectURL(blob);\n",
              "      a.download = filename;\n",
              "      div.appendChild(a);\n",
              "      a.click();\n",
              "      div.remove();\n",
              "    }\n",
              "  "
            ],
            "text/plain": [
              "<IPython.core.display.Javascript object>"
            ]
          },
          "metadata": {
            "tags": []
          }
        },
        {
          "output_type": "display_data",
          "data": {
            "application/javascript": [
              "download(\"download_283796b9-b308-4ace-97c7-db9b5692e9b2\", \"apple.npy\", 131072128)"
            ],
            "text/plain": [
              "<IPython.core.display.Javascript object>"
            ]
          },
          "metadata": {
            "tags": []
          }
        }
      ]
    },
    {
      "cell_type": "code",
      "metadata": {
        "id": "GXTV5qf4p-tr",
        "colab": {
          "base_uri": "https://localhost:8080/",
          "height": 35
        },
        "outputId": "4fd0da18-7549-4f0a-cf2f-95532647f7bb"
      },
      "source": [
        "df = pd.read_csv('/content/Dataset_csv/eyeglasses.csv', usecols=['drawing', 'word','recognized'])  # import the data in chunks\r\n",
        "df=df[df['recognized'] == True][:n_samples].reset_index()\r\n",
        "df.word[0]"
      ],
      "execution_count": null,
      "outputs": [
        {
          "output_type": "execute_result",
          "data": {
            "application/vnd.google.colaboratory.intrinsic+json": {
              "type": "string"
            },
            "text/plain": [
              "'eyeglasses'"
            ]
          },
          "metadata": {
            "tags": []
          },
          "execution_count": 14
        }
      ]
    },
    {
      "cell_type": "code",
      "metadata": {
        "id": "Wuc31zAOQVSZ"
      },
      "source": [
        "uploaded = drive.CreateFile({'trial': file_name})\r\n",
        "uploaded.SetContentString('Sample upload file content')\r\n",
        "uploaded.Upload()"
      ],
      "execution_count": null,
      "outputs": []
    }
  ]
}