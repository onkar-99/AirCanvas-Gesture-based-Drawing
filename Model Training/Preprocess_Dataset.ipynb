{
  "nbformat": 4,
  "nbformat_minor": 0,
  "metadata": {
    "colab": {
      "name": "Preprocess Dataset.ipynb",
      "provenance": [],
      "collapsed_sections": [],
      "mount_file_id": "1UccCUoEIvkWxZfniD79fYaDZ-R1qpYQF",
      "authorship_tag": "ABX9TyNDcJdFanc82f1EaMCXnml5",
      "include_colab_link": true
    },
    "kernelspec": {
      "name": "python3",
      "display_name": "Python 3"
    }
  },
  "cells": [
    {
      "cell_type": "markdown",
      "metadata": {
        "id": "view-in-github",
        "colab_type": "text"
      },
      "source": [
        "<a href=\"https://colab.research.google.com/github/onkar-99/Doodle-in-Air/blob/main/Model%20Training/Preprocess_Dataset.ipynb\" target=\"_parent\"><img src=\"https://colab.research.google.com/assets/colab-badge.svg\" alt=\"Open In Colab\"/></a>"
      ]
    },
    {
      "cell_type": "markdown",
      "metadata": {
        "id": "0-fCC0SM5W5S"
      },
      "source": [
        "#**Download Dataset** \r\n",
        "####You don't need to do this step if you're not using Colab and downloading it from Drive\r\n"
      ]
    },
    {
      "cell_type": "code",
      "metadata": {
        "id": "EwtAs2xwCsqn",
        "colab": {
          "base_uri": "https://localhost:8080/"
        },
        "outputId": "3afcf4a6-cc8b-4881-bd0b-1cbd285022b7"
      },
      "source": [
        "!unzip \"/content/drive/My Drive/Dataset_csv.zip\""
      ],
      "execution_count": 2,
      "outputs": [
        {
          "output_type": "stream",
          "text": [
            "Archive:  /content/drive/My Drive/Dataset_csv.zip\n",
            "   creating: Dataset_csv/\n",
            "  inflating: Dataset_csv/airplane.csv  \n",
            "  inflating: Dataset_csv/alarm clock.csv  \n",
            "  inflating: Dataset_csv/apple.csv   \n",
            "  inflating: Dataset_csv/arm.csv     \n",
            "  inflating: Dataset_csv/axe.csv     \n",
            "  inflating: Dataset_csv/backpack.csv  \n",
            "  inflating: Dataset_csv/banana.csv  \n",
            "  inflating: Dataset_csv/bandage.csv  \n",
            "  inflating: Dataset_csv/baseball bat.csv  \n",
            "  inflating: Dataset_csv/basketball.csv  \n",
            "  inflating: Dataset_csv/bed.csv     \n",
            "  inflating: Dataset_csv/belt.csv    \n",
            "  inflating: Dataset_csv/birthday cake.csv  \n",
            "  inflating: Dataset_csv/book.csv    \n",
            "  inflating: Dataset_csv/bucket.csv  \n",
            "  inflating: Dataset_csv/butterfly.csv  \n",
            "  inflating: Dataset_csv/candle.csv  \n",
            "  inflating: Dataset_csv/ceiling fan.csv  \n",
            "  inflating: Dataset_csv/cell phone.csv  \n",
            "  inflating: Dataset_csv/chair.csv   \n",
            "  inflating: Dataset_csv/donut.csv   \n",
            "  inflating: Dataset_csv/door.csv    \n",
            "  inflating: Dataset_csv/eyeglasses.csv  \n",
            "  inflating: Dataset_csv/lollipop.csv  \n",
            "  inflating: Dataset_csv/scissors.csv  \n",
            "  inflating: Dataset_csv/t-shirt.csv  \n"
          ],
          "name": "stdout"
        }
      ]
    },
    {
      "cell_type": "markdown",
      "metadata": {
        "id": "HNPLmL3z5nEl"
      },
      "source": [
        "#Import Required Packages"
      ]
    },
    {
      "cell_type": "code",
      "metadata": {
        "id": "5WaXS3vDgjOn"
      },
      "source": [
        "import numpy as np\r\n",
        "from matplotlib import pyplot as plt\r\n",
        "import glob\r\n",
        "import os\r\n",
        "import matplotlib.figure\r\n",
        "from sklearn.model_selection import train_test_split\r\n",
        "import pandas as pd"
      ],
      "execution_count": 3,
      "outputs": []
    },
    {
      "cell_type": "markdown",
      "metadata": {
        "id": "cBQF9yxk5sRP"
      },
      "source": [
        "#Get path to each category's csv file"
      ]
    },
    {
      "cell_type": "code",
      "metadata": {
        "colab": {
          "base_uri": "https://localhost:8080/"
        },
        "id": "vGG7USi1DHgX",
        "outputId": "88e995ad-5f19-4a30-8209-4e7513cafdac"
      },
      "source": [
        "import ast\r\n",
        "all_files = glob.glob(os.path.join('/content/Dataset_csv', '*.csv'))\r\n",
        "all_files.sort()\r\n",
        "all_files"
      ],
      "execution_count": 7,
      "outputs": [
        {
          "output_type": "execute_result",
          "data": {
            "text/plain": [
              "['/content/Dataset_csv/airplane.csv',\n",
              " '/content/Dataset_csv/alarm clock.csv',\n",
              " '/content/Dataset_csv/apple.csv',\n",
              " '/content/Dataset_csv/arm.csv',\n",
              " '/content/Dataset_csv/axe.csv',\n",
              " '/content/Dataset_csv/backpack.csv',\n",
              " '/content/Dataset_csv/banana.csv',\n",
              " '/content/Dataset_csv/bandage.csv',\n",
              " '/content/Dataset_csv/baseball bat.csv',\n",
              " '/content/Dataset_csv/basketball.csv',\n",
              " '/content/Dataset_csv/bed.csv',\n",
              " '/content/Dataset_csv/belt.csv',\n",
              " '/content/Dataset_csv/birthday cake.csv',\n",
              " '/content/Dataset_csv/book.csv',\n",
              " '/content/Dataset_csv/bucket.csv',\n",
              " '/content/Dataset_csv/butterfly.csv',\n",
              " '/content/Dataset_csv/candle.csv',\n",
              " '/content/Dataset_csv/ceiling fan.csv',\n",
              " '/content/Dataset_csv/cell phone.csv',\n",
              " '/content/Dataset_csv/chair.csv',\n",
              " '/content/Dataset_csv/donut.csv',\n",
              " '/content/Dataset_csv/door.csv',\n",
              " '/content/Dataset_csv/eyeglasses.csv',\n",
              " '/content/Dataset_csv/lollipop.csv',\n",
              " '/content/Dataset_csv/scissors.csv',\n",
              " '/content/Dataset_csv/t-shirt.csv']"
            ]
          },
          "metadata": {
            "tags": []
          },
          "execution_count": 7
        }
      ]
    },
    {
      "cell_type": "markdown",
      "metadata": {
        "id": "GD0SCtAd6HDV"
      },
      "source": [
        "#Function to preprocess data\r\n",
        "\r\n",
        "Steps taken\r\n",
        "1. Convert strokes to image array\r\n",
        "2. Reize it to 64x64 image\r\n",
        "3. Enhance the image \r\n",
        "4. Convert to grayscale"
      ]
    },
    {
      "cell_type": "code",
      "metadata": {
        "id": "R5Xkgaai0csq"
      },
      "source": [
        "import cv2\r\n",
        "from PIL import Image\r\n",
        "im_size = 64\r\n",
        "n_class = 26\r\n",
        "\r\n",
        "# redefine\r\n",
        "def draw_to_img(strokes, im_size = im_size):\r\n",
        "    fig, ax = plt.subplots()                        # plot the drawing as we did above\r\n",
        "    for x, y in strokes:\r\n",
        "        ax.plot(x, -np.array(y), lw = 10)\r\n",
        "    ax.axis('off')\r\n",
        "    \r\n",
        "    fig.canvas.draw()                               # update a figure that has been altered\r\n",
        "    A = np.array(fig.canvas.renderer._renderer)     # converting them into array\r\n",
        "    \r\n",
        "    plt.close('all')\r\n",
        "    plt.clf()\r\n",
        "    \r\n",
        "    A = (cv2.resize(A, (im_size, im_size)))  # image resizing to uniform format\r\n",
        "    A=A[:, :, :3]  \r\n",
        "    image=Image.fromarray(A)  \r\n",
        "    black = (0,0,0)\r\n",
        "    white=(255,255,255)\r\n",
        "    pixels = image.getdata()\r\n",
        "    newPixels = []\r\n",
        "\r\n",
        "# Compare each pixel \r\n",
        "    for pixel in pixels:\r\n",
        "      if pixel != white:\r\n",
        "        newPixels.append(black)\r\n",
        "      else:\r\n",
        "        newPixels.append(white)\r\n",
        "    newImg = Image.new(\"RGB\",image.size)\r\n",
        "    newImg.putdata(newPixels)\r\n",
        "    img = cv2.cvtColor(np.float32(newImg), cv2.COLOR_BGR2GRAY).reshape(64,64,1)\r\n",
        "    return img"
      ],
      "execution_count": 9,
      "outputs": []
    },
    {
      "cell_type": "markdown",
      "metadata": {
        "id": "z5A1xbY56r-G"
      },
      "source": [
        "#Create numpy files (.npy) for each category"
      ]
    },
    {
      "cell_type": "code",
      "metadata": {
        "colab": {
          "base_uri": "https://localhost:8080/",
          "height": 34
        },
        "id": "knIliD-_qFGp",
        "outputId": "9cadb91e-d292-4056-bf43-0a21c7f925f2"
      },
      "source": [
        "import ast\r\n",
        "from google.colab import files\r\n",
        "\r\n",
        "n_samples = 3\r\n",
        "    #print(a)\r\n",
        "    #filename = dir_path + a + '.csv'\r\n",
        "X_save = np.empty([0, 64,64,1])\r\n",
        "for file in all_files:\r\n",
        "    df = pd.read_csv(file, usecols=['drawing', 'word','recognized'])  # import the data in chunks\r\n",
        "    df=df[df['recognized'] == True][:n_samples].reset_index()\r\n",
        "    df['drawing'] = df.drawing.map(ast.literal_eval)                          # convert strings into list\r\n",
        "    X = df.drawing.values\r\n",
        "    for i in range(0,n_samples):\r\n",
        "        img=draw_to_img(X[i])\r\n",
        "        img=img.reshape(1,64,64,1)\r\n",
        "        X_save=np.concatenate((X_save, img), axis=0)\r\n",
        "    np.save(df.word[0]+'.npy', X_save)    \r\n",
        "    files.download(df.word[0]+'.npy')\r\n",
        "                # covert strokes into array\r\n"
      ],
      "execution_count": 12,
      "outputs": [
        {
          "output_type": "display_data",
          "data": {
            "text/plain": [
              "<Figure size 432x288 with 0 Axes>"
            ]
          },
          "metadata": {
            "tags": []
          }
        }
      ]
    },
    {
      "cell_type": "code",
      "metadata": {
        "id": "v1EjoSk722sW"
      },
      "source": [
        ""
      ],
      "execution_count": null,
      "outputs": []
    }
  ]
}